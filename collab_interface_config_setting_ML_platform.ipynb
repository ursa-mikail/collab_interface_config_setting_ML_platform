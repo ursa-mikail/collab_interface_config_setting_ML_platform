{
  "nbformat": 4,
  "nbformat_minor": 0,
  "metadata": {
    "colab": {
      "provenance": []
    },
    "kernelspec": {
      "name": "python3",
      "display_name": "Python 3"
    },
    "language_info": {
      "name": "python"
    }
  },
  "cells": [
    {
      "cell_type": "code",
      "execution_count": null,
      "metadata": {
        "id": "Hl31C2rU8J8b"
      },
      "outputs": [],
      "source": [
        "# @title ## Configuration Settings\n",
        "\n",
        "# @markdown ### Select your runtime (CPU, High RAM, GPU)\n",
        "runtime = \"CPU\" # @param [\"CPU\", \"CPU + High-RAM\", \"GPU\"]\n",
        "\n",
        "# @markdown ### Choose a branch\n",
        "# @markdown ##### Mergekit arguments\n",
        "# @markdown Use the `main` branch by default, [`mixtral`](https://github.com/cg123/mergekit/blob/mixtral/moe.md) if you want to create a Mixture of Experts.\n",
        "\n",
        "branch = \"main\" # @param [\"main\", \"mixtral\"]\n",
        "\n",
        "# @markdown ### Trust remote code execution\n",
        "trust_remote_code = False # @param {type:\"boolean\"}\n",
        "\n",
        "# @markdown ### Enter your username\n",
        "username = \"user123\" # @param {type:\"string\"}\n",
        "\n",
        "# @markdown ### Choose your preference\n",
        "# @markdown Select one of the following options.\n",
        "preference = \"Option 1\" # @param [\"Option 1\", \"Option 2\", \"Option 3\"]\n",
        "\n",
        "# @markdown ### Enable additional features\n",
        "# @markdown Check the box if you want to enable additional features.\n",
        "enable_features = True # @param {type:\"boolean\"}\n",
        "\n",
        "# @markdown ### Select your environment\n",
        "# @markdown Choose one of the following environments.\n",
        "environment = \"Development\" # @param [\"Development\", \"Staging\", \"Production\"]\n",
        "\n",
        "# @markdown ### Choose your access level\n",
        "# @markdown Select your access level.\n",
        "access_level = \"Admin\" # @param [\"Admin\", \"User\", \"Guest\"] {type:\"string\"}\n",
        "\n",
        "# Function to display variable names and values\n",
        "def variable_name_to_text(variable):\n",
        "    for name, value in globals().items():\n",
        "        if id(value) == id(variable):\n",
        "            return name\n",
        "    return None\n",
        "\n",
        "def display_results(variable):\n",
        "    print(f\"{variable_name_to_text(variable)} = {variable}\")\n",
        "\n",
        "def option_setting_display(options):\n",
        "    for variable in options:\n",
        "        print(f\"{variable_name_to_text(variable)} = {variable}\")\n",
        "\n",
        "# Usage\n",
        "options = [runtime, branch, trust_remote_code, username, preference, enable_features, environment, access_level]\n",
        "option_setting_display(options)\n",
        "\n",
        "# Example of displaying a result\n",
        "display_results(runtime)\n"
      ]
    }
  ]
}